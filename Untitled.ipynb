{
 "cells": [
  {
   "cell_type": "code",
   "execution_count": null,
   "id": "0a3aadd5-e4b0-44ba-9d70-2c3b5268415f",
   "metadata": {},
   "outputs": [],
   "source": [
    "!pip install instaloader matplotlib tabulate"
   ]
  },
  {
   "cell_type": "code",
   "execution_count": 11,
   "id": "335b0384-969d-45ce-b569-0b7d47ab99af",
   "metadata": {
    "scrolled": true
   },
   "outputs": [
    {
     "name": "stdout",
     "output_type": "stream",
     "text": [
      "--- Social Media Analytics Dashboard ---\n"
     ]
    },
    {
     "name": "stdin",
     "output_type": "stream",
     "text": [
      "Username:  shayad\n",
      "Password:  ········\n",
      "Number of posts:  2\n",
      "Number of Followers:  1000\n"
     ]
    },
    {
     "name": "stdout",
     "output_type": "stream",
     "text": [
      "Post 1\n"
     ]
    },
    {
     "name": "stdin",
     "output_type": "stream",
     "text": [
      "Likes:  100\n",
      "Comments:  20\n",
      "Shares:  20\n"
     ]
    },
    {
     "name": "stdout",
     "output_type": "stream",
     "text": [
      "Post 2\n"
     ]
    },
    {
     "name": "stdin",
     "output_type": "stream",
     "text": [
      "Likes:  1900\n",
      "Comments:  200\n",
      "Shares:  30\n"
     ]
    },
    {
     "name": "stdout",
     "output_type": "stream",
     "text": [
      "\n",
      "POST DATA\n",
      "+--------+---------+------------+----------+\n",
      "| Post   |   Likes |   Comments |   Shares |\n",
      "+========+=========+============+==========+\n",
      "| Post 1 |     100 |         20 |       20 |\n",
      "+--------+---------+------------+----------+\n",
      "| Post 2 |    1900 |        200 |       30 |\n",
      "+--------+---------+------------+----------+\n",
      "\n",
      "MATRIX:\n",
      "+------------------+---------+\n",
      "| Metric           | Value   |\n",
      "+==================+=========+\n",
      "| Total Likes      | 2000    |\n",
      "+------------------+---------+\n",
      "| Total Comments   | 220     |\n",
      "+------------------+---------+\n",
      "| Total Shares     | 50      |\n",
      "+------------------+---------+\n",
      "| Total Engagement | 2270    |\n",
      "+------------------+---------+\n",
      "| Engagement Rate  | 113.50% |\n",
      "+------------------+---------+\n"
     ]
    }
   ],
   "source": [
    "from tabulate import tabulate\n",
    "from getpass import getpass\n",
    "\n",
    "\n",
    "def collect_post_data(posts):\n",
    "    total_likes = 0\n",
    "    total_comments = 0\n",
    "    total_shares = 0\n",
    "    post_data = []\n",
    "\n",
    "    for i in range(1, posts + 1):\n",
    "        print(f\"Post {i}\")\n",
    "        likes = int(input(\"Likes: \"))\n",
    "        comments = int(input(\"Comments: \"))\n",
    "        shares = int(input(\"Shares: \"))\n",
    "\n",
    "        post_data.append([f\"Post {i}\", likes, comments, shares])\n",
    "        total_likes += likes\n",
    "        total_comments += comments\n",
    "        total_shares += shares\n",
    "\n",
    "    return post_data, total_likes, total_comments, total_shares\n",
    "\n",
    "def calculate_engagement(total_likes, total_comments, total_shares, posts, followers):\n",
    "    total_engagement = total_likes + total_comments + total_shares\n",
    "    engagement_rate = (total_engagement / (posts * followers) * 100) if followers > 0 else 0\n",
    "    return total_engagement, engagement_rate\n",
    "\n",
    "def display_results(post_data, total_likes, total_comments, total_shares, total_engagement, engagement_rate):\n",
    "    print(\"\\nPOST DATA\")\n",
    "    print(tabulate(post_data, headers=[\"Post\", \"Likes\", \"Comments\", \"Shares\"], tablefmt=\"grid\"))\n",
    "\n",
    "    table = [\n",
    "        [\"Total Likes\", total_likes],\n",
    "        [\"Total Comments\", total_comments],\n",
    "        [\"Total Shares\", total_shares],\n",
    "        [\"Total Engagement\", total_engagement],\n",
    "        [\"Engagement Rate\", f\"{engagement_rate:.2f}%\"]\n",
    "    ]\n",
    "    print(\"\\nMATRIX:\")\n",
    "    print(tabulate(table, headers=[\"Metric\", \"Value\"], tablefmt=\"grid\"))\n",
    "\n",
    "def main():\n",
    "    print(\"--- Social Media Analytics Dashboard ---\")\n",
    "    username = input(\"Username: \")\n",
    "    password = getpass(\"Password: \")  \n",
    "    posts = int(input(\"Number of posts: \"))\n",
    "    followers = int(input(\"Number of Followers: \"))\n",
    "    \n",
    "    if posts == 0:\n",
    "        print(\"No Data found!\")\n",
    "        return\n",
    "\n",
    "    post_data, total_likes, total_comments, total_shares = collect_post_data(posts)\n",
    "    total_engagement, engagement_rate = calculate_engagement(total_likes, total_comments, total_shares, posts, followers)\n",
    "    \n",
    "    display_results(post_data, total_likes, total_comments, total_shares, total_engagement, engagement_rate)\n",
    "\n",
    "\n",
    "if __name__ == \"__main__\":\n",
    "    main()\n",
    "    "
   ]
  },
  {
   "cell_type": "code",
   "execution_count": null,
   "id": "418eb3d9-dd5b-47f1-9453-65db3fb36de8",
   "metadata": {},
   "outputs": [],
   "source": []
  },
  {
   "cell_type": "code",
   "execution_count": null,
   "id": "eecc796d-3586-418f-80ff-a10b23a640f5",
   "metadata": {},
   "outputs": [],
   "source": []
  }
 ],
 "metadata": {
  "kernelspec": {
   "display_name": "Python 3 (ipykernel)",
   "language": "python",
   "name": "python3"
  },
  "language_info": {
   "codemirror_mode": {
    "name": "ipython",
    "version": 3
   },
   "file_extension": ".py",
   "mimetype": "text/x-python",
   "name": "python",
   "nbconvert_exporter": "python",
   "pygments_lexer": "ipython3",
   "version": "3.12.7"
  }
 },
 "nbformat": 4,
 "nbformat_minor": 5
}
